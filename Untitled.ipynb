{
 "cells": [
  {
   "cell_type": "markdown",
   "id": "fef0b405",
   "metadata": {},
   "source": [
    "# <h1><center>MOVIE GENRE PREDICTION</center></h1>"
   ]
  },
  {
   "cell_type": "markdown",
   "id": "7d6ffac5",
   "metadata": {},
   "source": [
    "This model predicts the genres of movies based on their plot description. Since, one movie can span different genres, the concept of multi-label classification is used here."
   ]
  },
  {
   "cell_type": "code",
   "execution_count": 1,
   "id": "38aa82f0",
   "metadata": {},
   "outputs": [],
   "source": [
    "#importing required libraries\n",
    "import pandas as pd\n",
    "import numpy as np\n",
    "import matplotlib.pyplot as plt\n",
    "import seaborn as sns\n",
    "import nltk\n",
    "import re"
   ]
  },
  {
   "cell_type": "code",
   "execution_count": 2,
   "id": "7af78aa6",
   "metadata": {},
   "outputs": [],
   "source": [
    "import warnings\n",
    "warnings.filterwarnings('ignore')\n",
    "pd. set_option('display.max_columns', None,'display.max_rows',None,'display.max_colwidth', None)"
   ]
  },
  {
   "cell_type": "code",
   "execution_count": 3,
   "id": "3d96ff70",
   "metadata": {},
   "outputs": [],
   "source": [
    "data=pd.read_csv('all_df.csv')"
   ]
  },
  {
   "cell_type": "code",
   "execution_count": 4,
   "id": "2cb2114a",
   "metadata": {},
   "outputs": [
    {
     "data": {
      "text/html": [
       "<div>\n",
       "<style scoped>\n",
       "    .dataframe tbody tr th:only-of-type {\n",
       "        vertical-align: middle;\n",
       "    }\n",
       "\n",
       "    .dataframe tbody tr th {\n",
       "        vertical-align: top;\n",
       "    }\n",
       "\n",
       "    .dataframe thead th {\n",
       "        text-align: right;\n",
       "    }\n",
       "</style>\n",
       "<table border=\"1\" class=\"dataframe\">\n",
       "  <thead>\n",
       "    <tr style=\"text-align: right;\">\n",
       "      <th></th>\n",
       "      <th>imdb_title_id</th>\n",
       "      <th>title</th>\n",
       "      <th>original_title</th>\n",
       "      <th>year</th>\n",
       "      <th>date_published</th>\n",
       "      <th>genre</th>\n",
       "      <th>duration</th>\n",
       "      <th>country</th>\n",
       "      <th>language</th>\n",
       "      <th>director</th>\n",
       "      <th>writer</th>\n",
       "      <th>production_company</th>\n",
       "      <th>actors</th>\n",
       "      <th>description</th>\n",
       "      <th>avg_vote</th>\n",
       "      <th>votes</th>\n",
       "      <th>budget</th>\n",
       "      <th>usa_gross_income</th>\n",
       "      <th>worlwide_gross_income</th>\n",
       "      <th>metascore</th>\n",
       "      <th>reviews_from_users</th>\n",
       "      <th>reviews_from_critics</th>\n",
       "      <th>description_#words</th>\n",
       "      <th>movie_title</th>\n",
       "    </tr>\n",
       "  </thead>\n",
       "  <tbody>\n",
       "    <tr>\n",
       "      <th>0</th>\n",
       "      <td>tt0001892</td>\n",
       "      <td>Den sorte drøm</td>\n",
       "      <td>Den sorte drøm</td>\n",
       "      <td>1911</td>\n",
       "      <td>1911-08-19</td>\n",
       "      <td>Drama</td>\n",
       "      <td>53</td>\n",
       "      <td>Germany, Denmark</td>\n",
       "      <td>NaN</td>\n",
       "      <td>Urban Gad</td>\n",
       "      <td>Urban Gad, Gebhard Schätzler-Perasini</td>\n",
       "      <td>Fotorama</td>\n",
       "      <td>Asta Nielsen, Valdemar Psilander, Gunnar Helsengreen, Emil Albes, Hugo Flink, Mary Hagen</td>\n",
       "      <td>Two men of high rank are both wooing the beautiful and famous equestrian acrobat Stella. While Stella ignores the jeweler Hirsch, she accepts Count von Waldberg's offer to follow her home, ...</td>\n",
       "      <td>5.8</td>\n",
       "      <td>188</td>\n",
       "      <td>NaN</td>\n",
       "      <td>NaN</td>\n",
       "      <td>NaN</td>\n",
       "      <td>NaN</td>\n",
       "      <td>5.0</td>\n",
       "      <td>2.0</td>\n",
       "      <td>32</td>\n",
       "      <td>den sorte drøm</td>\n",
       "    </tr>\n",
       "    <tr>\n",
       "      <th>1</th>\n",
       "      <td>tt0002101</td>\n",
       "      <td>Cleopatra</td>\n",
       "      <td>Cleopatra</td>\n",
       "      <td>1912</td>\n",
       "      <td>1912-11-13</td>\n",
       "      <td>Drama, History</td>\n",
       "      <td>100</td>\n",
       "      <td>USA</td>\n",
       "      <td>English</td>\n",
       "      <td>Charles L. Gaskill</td>\n",
       "      <td>Victorien Sardou</td>\n",
       "      <td>Helen Gardner Picture Players</td>\n",
       "      <td>Helen Gardner, Pearl Sindelar, Miss Fielding, Miss Robson, Helene Costello, Charles Sindelar, Mr. Howard, James R. Waite, Mr. Osborne, Harry Knowles, Mr. Paul, Mr. Brady, Mr. Corker</td>\n",
       "      <td>The fabled queen of Egypt's affair with Roman general Marc Antony is ultimately disastrous for both of them.</td>\n",
       "      <td>5.2</td>\n",
       "      <td>446</td>\n",
       "      <td>$ 45000</td>\n",
       "      <td>NaN</td>\n",
       "      <td>NaN</td>\n",
       "      <td>NaN</td>\n",
       "      <td>25.0</td>\n",
       "      <td>3.0</td>\n",
       "      <td>18</td>\n",
       "      <td>cleopatra</td>\n",
       "    </tr>\n",
       "    <tr>\n",
       "      <th>2</th>\n",
       "      <td>tt0002130</td>\n",
       "      <td>L'Inferno</td>\n",
       "      <td>L'Inferno</td>\n",
       "      <td>1911</td>\n",
       "      <td>1911-03-06</td>\n",
       "      <td>Adventure, Drama, Fantasy</td>\n",
       "      <td>68</td>\n",
       "      <td>Italy</td>\n",
       "      <td>Italian</td>\n",
       "      <td>Francesco Bertolini, Adolfo Padovan</td>\n",
       "      <td>Dante Alighieri</td>\n",
       "      <td>Milano Film</td>\n",
       "      <td>Salvatore Papa, Arturo Pirovano, Giuseppe de Liguoro, Pier Delle Vigne, Augusto Milla, Attilio Motta, Emilise Beretta</td>\n",
       "      <td>Loosely adapted from Dante's Divine Comedy and inspired by the illustrations of Gustav Doré the original silent film has been restored and has a new score by Tangerine Dream.</td>\n",
       "      <td>7.0</td>\n",
       "      <td>2237</td>\n",
       "      <td>NaN</td>\n",
       "      <td>NaN</td>\n",
       "      <td>NaN</td>\n",
       "      <td>NaN</td>\n",
       "      <td>31.0</td>\n",
       "      <td>14.0</td>\n",
       "      <td>29</td>\n",
       "      <td>l'inferno</td>\n",
       "    </tr>\n",
       "    <tr>\n",
       "      <th>3</th>\n",
       "      <td>tt0002199</td>\n",
       "      <td>From the Manger to the Cross; or, Jesus of Nazareth</td>\n",
       "      <td>From the Manger to the Cross; or, Jesus of Nazareth</td>\n",
       "      <td>1912</td>\n",
       "      <td>1913</td>\n",
       "      <td>Biography, Drama</td>\n",
       "      <td>60</td>\n",
       "      <td>USA</td>\n",
       "      <td>English</td>\n",
       "      <td>Sidney Olcott</td>\n",
       "      <td>Gene Gauntier</td>\n",
       "      <td>Kalem Company</td>\n",
       "      <td>R. Henderson Bland, Percy Dyer, Gene Gauntier, Alice Hollister, Samuel Morgan, James D. Ainsley, Robert G. Vignola, George Kellog, J.P. McGowan</td>\n",
       "      <td>An account of the life of Jesus Christ, based on the books of the New Testament: After Jesus' birth is foretold to his parents, he is born in Bethlehem, and is visited by shepherds and wise...</td>\n",
       "      <td>5.7</td>\n",
       "      <td>484</td>\n",
       "      <td>NaN</td>\n",
       "      <td>NaN</td>\n",
       "      <td>NaN</td>\n",
       "      <td>NaN</td>\n",
       "      <td>13.0</td>\n",
       "      <td>5.0</td>\n",
       "      <td>36</td>\n",
       "      <td>from the manger to the cross; or, jesus of nazareth</td>\n",
       "    </tr>\n",
       "    <tr>\n",
       "      <th>4</th>\n",
       "      <td>tt0002423</td>\n",
       "      <td>Madame DuBarry</td>\n",
       "      <td>Madame DuBarry</td>\n",
       "      <td>1919</td>\n",
       "      <td>1919-11-26</td>\n",
       "      <td>Biography, Drama, Romance</td>\n",
       "      <td>85</td>\n",
       "      <td>Germany</td>\n",
       "      <td>German</td>\n",
       "      <td>Ernst Lubitsch</td>\n",
       "      <td>Norbert Falk, Hanns Kräly</td>\n",
       "      <td>Projektions-AG Union (PAGU)</td>\n",
       "      <td>Pola Negri, Emil Jannings, Harry Liedtke, Eduard von Winterstein, Reinhold Schünzel, Else Berna, Fred Immler, Gustav Czimeg, Karl Platen, Bernhard Goetzke, Magnus Stifter, Paul Biensfeldt, Willy Kaiser-Heyl, Alexander Ekert, Robert Sortsch-Pla</td>\n",
       "      <td>The story of Madame DuBarry, the mistress of Louis XV of France, and her loves in the time of the French revolution.</td>\n",
       "      <td>6.8</td>\n",
       "      <td>753</td>\n",
       "      <td>NaN</td>\n",
       "      <td>NaN</td>\n",
       "      <td>NaN</td>\n",
       "      <td>NaN</td>\n",
       "      <td>12.0</td>\n",
       "      <td>9.0</td>\n",
       "      <td>22</td>\n",
       "      <td>madame dubarry</td>\n",
       "    </tr>\n",
       "  </tbody>\n",
       "</table>\n",
       "</div>"
      ],
      "text/plain": [
       "  imdb_title_id                                                title  \\\n",
       "0     tt0001892                                       Den sorte drøm   \n",
       "1     tt0002101                                            Cleopatra   \n",
       "2     tt0002130                                            L'Inferno   \n",
       "3     tt0002199  From the Manger to the Cross; or, Jesus of Nazareth   \n",
       "4     tt0002423                                       Madame DuBarry   \n",
       "\n",
       "                                        original_title  year date_published  \\\n",
       "0                                       Den sorte drøm  1911     1911-08-19   \n",
       "1                                            Cleopatra  1912     1912-11-13   \n",
       "2                                            L'Inferno  1911     1911-03-06   \n",
       "3  From the Manger to the Cross; or, Jesus of Nazareth  1912           1913   \n",
       "4                                       Madame DuBarry  1919     1919-11-26   \n",
       "\n",
       "                       genre  duration           country language  \\\n",
       "0                      Drama        53  Germany, Denmark      NaN   \n",
       "1             Drama, History       100               USA  English   \n",
       "2  Adventure, Drama, Fantasy        68             Italy  Italian   \n",
       "3           Biography, Drama        60               USA  English   \n",
       "4  Biography, Drama, Romance        85           Germany   German   \n",
       "\n",
       "                              director                                 writer  \\\n",
       "0                            Urban Gad  Urban Gad, Gebhard Schätzler-Perasini   \n",
       "1                   Charles L. Gaskill                       Victorien Sardou   \n",
       "2  Francesco Bertolini, Adolfo Padovan                        Dante Alighieri   \n",
       "3                        Sidney Olcott                          Gene Gauntier   \n",
       "4                       Ernst Lubitsch              Norbert Falk, Hanns Kräly   \n",
       "\n",
       "              production_company  \\\n",
       "0                       Fotorama   \n",
       "1  Helen Gardner Picture Players   \n",
       "2                    Milano Film   \n",
       "3                  Kalem Company   \n",
       "4    Projektions-AG Union (PAGU)   \n",
       "\n",
       "                                                                                                                                                                                                                                                actors  \\\n",
       "0                                                                                                                                                             Asta Nielsen, Valdemar Psilander, Gunnar Helsengreen, Emil Albes, Hugo Flink, Mary Hagen   \n",
       "1                                                                Helen Gardner, Pearl Sindelar, Miss Fielding, Miss Robson, Helene Costello, Charles Sindelar, Mr. Howard, James R. Waite, Mr. Osborne, Harry Knowles, Mr. Paul, Mr. Brady, Mr. Corker   \n",
       "2                                                                                                                                Salvatore Papa, Arturo Pirovano, Giuseppe de Liguoro, Pier Delle Vigne, Augusto Milla, Attilio Motta, Emilise Beretta   \n",
       "3                                                                                                      R. Henderson Bland, Percy Dyer, Gene Gauntier, Alice Hollister, Samuel Morgan, James D. Ainsley, Robert G. Vignola, George Kellog, J.P. McGowan   \n",
       "4  Pola Negri, Emil Jannings, Harry Liedtke, Eduard von Winterstein, Reinhold Schünzel, Else Berna, Fred Immler, Gustav Czimeg, Karl Platen, Bernhard Goetzke, Magnus Stifter, Paul Biensfeldt, Willy Kaiser-Heyl, Alexander Ekert, Robert Sortsch-Pla   \n",
       "\n",
       "                                                                                                                                                                                        description  \\\n",
       "0  Two men of high rank are both wooing the beautiful and famous equestrian acrobat Stella. While Stella ignores the jeweler Hirsch, she accepts Count von Waldberg's offer to follow her home, ...   \n",
       "1                                                                                      The fabled queen of Egypt's affair with Roman general Marc Antony is ultimately disastrous for both of them.   \n",
       "2                    Loosely adapted from Dante's Divine Comedy and inspired by the illustrations of Gustav Doré the original silent film has been restored and has a new score by Tangerine Dream.   \n",
       "3  An account of the life of Jesus Christ, based on the books of the New Testament: After Jesus' birth is foretold to his parents, he is born in Bethlehem, and is visited by shepherds and wise...   \n",
       "4                                                                              The story of Madame DuBarry, the mistress of Louis XV of France, and her loves in the time of the French revolution.   \n",
       "\n",
       "   avg_vote  votes   budget usa_gross_income worlwide_gross_income  metascore  \\\n",
       "0       5.8    188      NaN              NaN                   NaN        NaN   \n",
       "1       5.2    446  $ 45000              NaN                   NaN        NaN   \n",
       "2       7.0   2237      NaN              NaN                   NaN        NaN   \n",
       "3       5.7    484      NaN              NaN                   NaN        NaN   \n",
       "4       6.8    753      NaN              NaN                   NaN        NaN   \n",
       "\n",
       "   reviews_from_users  reviews_from_critics  description_#words  \\\n",
       "0                 5.0                   2.0                  32   \n",
       "1                25.0                   3.0                  18   \n",
       "2                31.0                  14.0                  29   \n",
       "3                13.0                   5.0                  36   \n",
       "4                12.0                   9.0                  22   \n",
       "\n",
       "                                           movie_title  \n",
       "0                                       den sorte drøm  \n",
       "1                                            cleopatra  \n",
       "2                                            l'inferno  \n",
       "3  from the manger to the cross; or, jesus of nazareth  \n",
       "4                                       madame dubarry  "
      ]
     },
     "execution_count": 4,
     "metadata": {},
     "output_type": "execute_result"
    }
   ],
   "source": [
    "data.head()"
   ]
  },
  {
   "cell_type": "markdown",
   "id": "d020242a",
   "metadata": {},
   "source": [
    "## Understanding the data"
   ]
  },
  {
   "cell_type": "code",
   "execution_count": 5,
   "id": "72d3c401",
   "metadata": {},
   "outputs": [
    {
     "data": {
      "text/plain": [
       "(74889, 24)"
      ]
     },
     "execution_count": 5,
     "metadata": {},
     "output_type": "execute_result"
    }
   ],
   "source": [
    "data.shape"
   ]
  },
  {
   "cell_type": "markdown",
   "id": "f3a5637c",
   "metadata": {},
   "source": [
    "There are 74,889 instances and 24 attributes for the dataset."
   ]
  },
  {
   "cell_type": "code",
   "execution_count": 6,
   "id": "3a10a2d7",
   "metadata": {},
   "outputs": [
    {
     "name": "stdout",
     "output_type": "stream",
     "text": [
      "<class 'pandas.core.frame.DataFrame'>\n",
      "RangeIndex: 74889 entries, 0 to 74888\n",
      "Data columns (total 24 columns):\n",
      " #   Column                 Non-Null Count  Dtype  \n",
      "---  ------                 --------------  -----  \n",
      " 0   imdb_title_id          74889 non-null  object \n",
      " 1   title                  74889 non-null  object \n",
      " 2   original_title         74889 non-null  object \n",
      " 3   year                   74889 non-null  object \n",
      " 4   date_published         74889 non-null  object \n",
      " 5   genre                  74889 non-null  object \n",
      " 6   duration               74889 non-null  int64  \n",
      " 7   country                74830 non-null  object \n",
      " 8   language               74171 non-null  object \n",
      " 9   director               74823 non-null  object \n",
      " 10  writer                 73584 non-null  object \n",
      " 11  production_company     71145 non-null  object \n",
      " 12  actors                 74837 non-null  object \n",
      " 13  description            74889 non-null  object \n",
      " 14  avg_vote               74889 non-null  float64\n",
      " 15  votes                  74889 non-null  int64  \n",
      " 16  budget                 20811 non-null  object \n",
      " 17  usa_gross_income       13558 non-null  object \n",
      " 18  worlwide_gross_income  26918 non-null  object \n",
      " 19  metascore              11678 non-null  float64\n",
      " 20  reviews_from_users     68842 non-null  float64\n",
      " 21  reviews_from_critics   65181 non-null  float64\n",
      " 22  description_#words     74889 non-null  int64  \n",
      " 23  movie_title            74889 non-null  object \n",
      "dtypes: float64(4), int64(3), object(17)\n",
      "memory usage: 13.7+ MB\n"
     ]
    }
   ],
   "source": [
    "data.info()"
   ]
  },
  {
   "cell_type": "code",
   "execution_count": 7,
   "id": "16b26b04",
   "metadata": {},
   "outputs": [
    {
     "data": {
      "text/html": [
       "<div>\n",
       "<style scoped>\n",
       "    .dataframe tbody tr th:only-of-type {\n",
       "        vertical-align: middle;\n",
       "    }\n",
       "\n",
       "    .dataframe tbody tr th {\n",
       "        vertical-align: top;\n",
       "    }\n",
       "\n",
       "    .dataframe thead th {\n",
       "        text-align: right;\n",
       "    }\n",
       "</style>\n",
       "<table border=\"1\" class=\"dataframe\">\n",
       "  <thead>\n",
       "    <tr style=\"text-align: right;\">\n",
       "      <th></th>\n",
       "      <th>duration</th>\n",
       "      <th>avg_vote</th>\n",
       "      <th>votes</th>\n",
       "      <th>metascore</th>\n",
       "      <th>reviews_from_users</th>\n",
       "      <th>reviews_from_critics</th>\n",
       "      <th>description_#words</th>\n",
       "    </tr>\n",
       "  </thead>\n",
       "  <tbody>\n",
       "    <tr>\n",
       "      <th>count</th>\n",
       "      <td>74889.000000</td>\n",
       "      <td>74889.000000</td>\n",
       "      <td>7.488900e+04</td>\n",
       "      <td>11678.000000</td>\n",
       "      <td>68842.000000</td>\n",
       "      <td>65181.000000</td>\n",
       "      <td>74889.000000</td>\n",
       "    </tr>\n",
       "    <tr>\n",
       "      <th>mean</th>\n",
       "      <td>100.352522</td>\n",
       "      <td>5.900541</td>\n",
       "      <td>9.730489e+03</td>\n",
       "      <td>55.712023</td>\n",
       "      <td>46.574853</td>\n",
       "      <td>27.658566</td>\n",
       "      <td>29.717956</td>\n",
       "    </tr>\n",
       "    <tr>\n",
       "      <th>std</th>\n",
       "      <td>22.357984</td>\n",
       "      <td>1.229920</td>\n",
       "      <td>5.473764e+04</td>\n",
       "      <td>17.763344</td>\n",
       "      <td>180.482569</td>\n",
       "      <td>58.829668</td>\n",
       "      <td>7.226405</td>\n",
       "    </tr>\n",
       "    <tr>\n",
       "      <th>min</th>\n",
       "      <td>41.000000</td>\n",
       "      <td>1.000000</td>\n",
       "      <td>9.900000e+01</td>\n",
       "      <td>1.000000</td>\n",
       "      <td>1.000000</td>\n",
       "      <td>1.000000</td>\n",
       "      <td>16.000000</td>\n",
       "    </tr>\n",
       "    <tr>\n",
       "      <th>25%</th>\n",
       "      <td>88.000000</td>\n",
       "      <td>5.200000</td>\n",
       "      <td>2.100000e+02</td>\n",
       "      <td>43.000000</td>\n",
       "      <td>4.000000</td>\n",
       "      <td>3.000000</td>\n",
       "      <td>24.000000</td>\n",
       "    </tr>\n",
       "    <tr>\n",
       "      <th>50%</th>\n",
       "      <td>96.000000</td>\n",
       "      <td>6.100000</td>\n",
       "      <td>5.000000e+02</td>\n",
       "      <td>56.000000</td>\n",
       "      <td>9.000000</td>\n",
       "      <td>8.000000</td>\n",
       "      <td>31.000000</td>\n",
       "    </tr>\n",
       "    <tr>\n",
       "      <th>75%</th>\n",
       "      <td>108.000000</td>\n",
       "      <td>6.800000</td>\n",
       "      <td>1.789000e+03</td>\n",
       "      <td>69.000000</td>\n",
       "      <td>27.000000</td>\n",
       "      <td>24.000000</td>\n",
       "      <td>35.000000</td>\n",
       "    </tr>\n",
       "    <tr>\n",
       "      <th>max</th>\n",
       "      <td>808.000000</td>\n",
       "      <td>9.900000</td>\n",
       "      <td>2.278845e+06</td>\n",
       "      <td>100.000000</td>\n",
       "      <td>10472.000000</td>\n",
       "      <td>999.000000</td>\n",
       "      <td>79.000000</td>\n",
       "    </tr>\n",
       "  </tbody>\n",
       "</table>\n",
       "</div>"
      ],
      "text/plain": [
       "           duration      avg_vote         votes     metascore  \\\n",
       "count  74889.000000  74889.000000  7.488900e+04  11678.000000   \n",
       "mean     100.352522      5.900541  9.730489e+03     55.712023   \n",
       "std       22.357984      1.229920  5.473764e+04     17.763344   \n",
       "min       41.000000      1.000000  9.900000e+01      1.000000   \n",
       "25%       88.000000      5.200000  2.100000e+02     43.000000   \n",
       "50%       96.000000      6.100000  5.000000e+02     56.000000   \n",
       "75%      108.000000      6.800000  1.789000e+03     69.000000   \n",
       "max      808.000000      9.900000  2.278845e+06    100.000000   \n",
       "\n",
       "       reviews_from_users  reviews_from_critics  description_#words  \n",
       "count        68842.000000          65181.000000        74889.000000  \n",
       "mean            46.574853             27.658566           29.717956  \n",
       "std            180.482569             58.829668            7.226405  \n",
       "min              1.000000              1.000000           16.000000  \n",
       "25%              4.000000              3.000000           24.000000  \n",
       "50%              9.000000              8.000000           31.000000  \n",
       "75%             27.000000             24.000000           35.000000  \n",
       "max          10472.000000            999.000000           79.000000  "
      ]
     },
     "execution_count": 7,
     "metadata": {},
     "output_type": "execute_result"
    }
   ],
   "source": [
    "data.describe()"
   ]
  },
  {
   "cell_type": "code",
   "execution_count": 8,
   "id": "aa6b5590",
   "metadata": {},
   "outputs": [
    {
     "data": {
      "text/html": [
       "<div>\n",
       "<style scoped>\n",
       "    .dataframe tbody tr th:only-of-type {\n",
       "        vertical-align: middle;\n",
       "    }\n",
       "\n",
       "    .dataframe tbody tr th {\n",
       "        vertical-align: top;\n",
       "    }\n",
       "\n",
       "    .dataframe thead th {\n",
       "        text-align: right;\n",
       "    }\n",
       "</style>\n",
       "<table border=\"1\" class=\"dataframe\">\n",
       "  <thead>\n",
       "    <tr style=\"text-align: right;\">\n",
       "      <th></th>\n",
       "      <th>imdb_title_id</th>\n",
       "      <th>title</th>\n",
       "      <th>original_title</th>\n",
       "      <th>year</th>\n",
       "      <th>date_published</th>\n",
       "      <th>genre</th>\n",
       "      <th>country</th>\n",
       "      <th>language</th>\n",
       "      <th>director</th>\n",
       "      <th>writer</th>\n",
       "      <th>production_company</th>\n",
       "      <th>actors</th>\n",
       "      <th>description</th>\n",
       "      <th>budget</th>\n",
       "      <th>usa_gross_income</th>\n",
       "      <th>worlwide_gross_income</th>\n",
       "      <th>movie_title</th>\n",
       "    </tr>\n",
       "  </thead>\n",
       "  <tbody>\n",
       "    <tr>\n",
       "      <th>count</th>\n",
       "      <td>74889</td>\n",
       "      <td>74889</td>\n",
       "      <td>74889</td>\n",
       "      <td>74889</td>\n",
       "      <td>74889</td>\n",
       "      <td>74889</td>\n",
       "      <td>74830</td>\n",
       "      <td>74171</td>\n",
       "      <td>74823</td>\n",
       "      <td>73584</td>\n",
       "      <td>71145</td>\n",
       "      <td>74837</td>\n",
       "      <td>74889</td>\n",
       "      <td>20811</td>\n",
       "      <td>13558</td>\n",
       "      <td>26918</td>\n",
       "      <td>74889</td>\n",
       "    </tr>\n",
       "    <tr>\n",
       "      <th>unique</th>\n",
       "      <td>74889</td>\n",
       "      <td>71907</td>\n",
       "      <td>70906</td>\n",
       "      <td>151</td>\n",
       "      <td>20790</td>\n",
       "      <td>1213</td>\n",
       "      <td>4483</td>\n",
       "      <td>3994</td>\n",
       "      <td>31925</td>\n",
       "      <td>59381</td>\n",
       "      <td>29309</td>\n",
       "      <td>74806</td>\n",
       "      <td>74821</td>\n",
       "      <td>4217</td>\n",
       "      <td>13171</td>\n",
       "      <td>26446</td>\n",
       "      <td>70868</td>\n",
       "    </tr>\n",
       "    <tr>\n",
       "      <th>top</th>\n",
       "      <td>tt1417108</td>\n",
       "      <td>Anna</td>\n",
       "      <td>Anna</td>\n",
       "      <td>2014</td>\n",
       "      <td>2010</td>\n",
       "      <td>Drama</td>\n",
       "      <td>USA</td>\n",
       "      <td>English</td>\n",
       "      <td>Michael Curtiz</td>\n",
       "      <td>Jing Wong</td>\n",
       "      <td>Metro-Goldwyn-Mayer (MGM)</td>\n",
       "      <td>Sergey A.</td>\n",
       "      <td>During World War II, a teenage Jewish girl named Anne Frank and her family are forced into hiding in the Nazi-occupied Netherlands.</td>\n",
       "      <td>$ 1000000</td>\n",
       "      <td>$ 1000000</td>\n",
       "      <td>$ 8144</td>\n",
       "      <td>wanted</td>\n",
       "    </tr>\n",
       "    <tr>\n",
       "      <th>freq</th>\n",
       "      <td>1</td>\n",
       "      <td>8</td>\n",
       "      <td>8</td>\n",
       "      <td>2606</td>\n",
       "      <td>104</td>\n",
       "      <td>10850</td>\n",
       "      <td>25235</td>\n",
       "      <td>31900</td>\n",
       "      <td>77</td>\n",
       "      <td>73</td>\n",
       "      <td>1146</td>\n",
       "      <td>4</td>\n",
       "      <td>4</td>\n",
       "      <td>668</td>\n",
       "      <td>17</td>\n",
       "      <td>15</td>\n",
       "      <td>8</td>\n",
       "    </tr>\n",
       "  </tbody>\n",
       "</table>\n",
       "</div>"
      ],
      "text/plain": [
       "       imdb_title_id  title original_title   year date_published  genre  \\\n",
       "count          74889  74889          74889  74889          74889  74889   \n",
       "unique         74889  71907          70906    151          20790   1213   \n",
       "top        tt1417108   Anna           Anna   2014           2010  Drama   \n",
       "freq               1      8              8   2606            104  10850   \n",
       "\n",
       "       country language        director     writer         production_company  \\\n",
       "count    74830    74171           74823      73584                      71145   \n",
       "unique    4483     3994           31925      59381                      29309   \n",
       "top        USA  English  Michael Curtiz  Jing Wong  Metro-Goldwyn-Mayer (MGM)   \n",
       "freq     25235    31900              77         73                       1146   \n",
       "\n",
       "           actors  \\\n",
       "count       74837   \n",
       "unique      74806   \n",
       "top     Sergey A.   \n",
       "freq            4   \n",
       "\n",
       "                                                                                                                                description  \\\n",
       "count                                                                                                                                 74889   \n",
       "unique                                                                                                                                74821   \n",
       "top     During World War II, a teenage Jewish girl named Anne Frank and her family are forced into hiding in the Nazi-occupied Netherlands.   \n",
       "freq                                                                                                                                      4   \n",
       "\n",
       "           budget usa_gross_income worlwide_gross_income movie_title  \n",
       "count       20811            13558                 26918       74889  \n",
       "unique       4217            13171                 26446       70868  \n",
       "top     $ 1000000        $ 1000000                $ 8144      wanted  \n",
       "freq          668               17                    15           8  "
      ]
     },
     "execution_count": 8,
     "metadata": {},
     "output_type": "execute_result"
    }
   ],
   "source": [
    "data.describe(include=object)"
   ]
  },
  {
   "cell_type": "markdown",
   "id": "71484ef6",
   "metadata": {},
   "source": [
    "# Exploratory Data Analysis"
   ]
  },
  {
   "cell_type": "code",
   "execution_count": 9,
   "id": "a353c4ca",
   "metadata": {},
   "outputs": [],
   "source": [
    "data_a=data.dropna(subset=['worlwide_gross_income','metascore'])\n",
    "data_a['worlwide_gross_income']=pd.to_numeric(data_a['worlwide_gross_income'].str.replace(r'\\D', ''))"
   ]
  },
  {
   "cell_type": "markdown",
   "id": "a1a70ec3",
   "metadata": {},
   "source": [
    "# Data Preprocessing"
   ]
  },
  {
   "cell_type": "code",
   "execution_count": 10,
   "id": "c82df4a3",
   "metadata": {},
   "outputs": [
    {
     "data": {
      "text/plain": [
       "(74889, 24)"
      ]
     },
     "execution_count": 10,
     "metadata": {},
     "output_type": "execute_result"
    }
   ],
   "source": [
    "#dropping duplicate rows\n",
    "data.drop_duplicates()\n",
    "data.shape"
   ]
  },
  {
   "cell_type": "markdown",
   "id": "060e9df5",
   "metadata": {},
   "source": [
    "There were no duplicate entries."
   ]
  },
  {
   "cell_type": "code",
   "execution_count": 11,
   "id": "3188aa79",
   "metadata": {},
   "outputs": [],
   "source": [
    "#removing columns which do not contribute to the model\n",
    "data.drop(['imdb_title_id','title','date_published','movie_title','description_#words'],axis=1,inplace=True)"
   ]
  },
  {
   "cell_type": "code",
   "execution_count": 12,
   "id": "4ded7d58",
   "metadata": {},
   "outputs": [
    {
     "data": {
      "image/png": "[encoded data removed]",
      "text/plain": [
       "<Figure size 576x432 with 2 Axes>"
      ]
     },
     "metadata": {
      "needs_background": "light"
     },
     "output_type": "display_data"
    }
   ],
   "source": [
    "#feature reduction\n",
    "plt.figure(figsize=(8,6))\n",
    "sns.heatmap(data.corr(),annot=True,vmin=-1)\n",
    "plt.show()"
   ]
  },
  {
   "cell_type": "markdown",
   "id": "006f71cb",
   "metadata": {},
   "source": [
    "Since, there is high correlation between ('avg_vote' and 'metascore'),('votes','reviews_from_users' and 'reviews_from_critics',three of them can be removed."
   ]
  },
  {
   "cell_type": "code",
   "execution_count": 13,
   "id": "97608934",
   "metadata": {},
   "outputs": [],
   "source": [
    "data.drop(['avg_vote','reviews_from_users','reviews_from_critics'],axis=1,inplace=True)"
   ]
  },
  {
   "cell_type": "markdown",
   "id": "0c20d77e",
   "metadata": {},
   "source": [
    "## Cleaning the features"
   ]
  },
  {
   "cell_type": "code",
   "execution_count": 14,
   "id": "ef195411",
   "metadata": {},
   "outputs": [],
   "source": [
    "#defining functions for basic text cleaning\n",
    "\n",
    "#function for removing whitespaces inside list\n",
    "def clean_list(list):\n",
    "    l=[]\n",
    "    for i in list:\n",
    "        l.append(i.replace(' ',''))\n",
    "    return l\n",
    "\n",
    "def clean_list1(text):\n",
    "    s=''\n",
    "    for x in text:\n",
    "        s=s+' '+x\n",
    "        s=s.lower()\n",
    "    return s \n",
    "\n",
    "# functions for cleaning text\n",
    "def clean_text(text):\n",
    "    # remove everything except alphabets \n",
    "    text = re.sub(\"[^a-zA-Z]\",\" \",text) \n",
    "    # remove whitespaces \n",
    "    text = ' '.join(text.split()) \n",
    "    # convert text to lowercase \n",
    "    text = text.lower() \n",
    "    return text\n",
    "\n",
    "def clean_text1(text):\n",
    "    text=text.replace(' ','')\n",
    "    text=text.replace('.','')\n",
    "    text=text.replace(',',' ')\n",
    "    text=text.lower()\n",
    "    return text"
   ]
  },
  {
   "cell_type": "markdown",
   "id": "407c8e72",
   "metadata": {},
   "source": [
    "### Cleaning the feature 'genre'"
   ]
  },
  {
   "cell_type": "code",
   "execution_count": 15,
   "id": "628a3502",
   "metadata": {},
   "outputs": [
    {
     "data": {
      "text/plain": [
       "0                        Drama\n",
       "1               Drama, History\n",
       "2    Adventure, Drama, Fantasy\n",
       "3             Biography, Drama\n",
       "4    Biography, Drama, Romance\n",
       "Name: genre, dtype: object"
      ]
     },
     "execution_count": 15,
     "metadata": {},
     "output_type": "execute_result"
    }
   ],
   "source": [
    "data['genre'].head()"
   ]
  },
  {
   "cell_type": "markdown",
   "id": "ef8c273c",
   "metadata": {},
   "source": [
    "The target variable is the 'genre' feature. A list has been created which contains all the genres, the movie spans."
   ]
  },
  {
   "cell_type": "code",
   "execution_count": 16,
   "id": "d1a27dea",
   "metadata": {},
   "outputs": [
    {
     "data": {
      "text/plain": [
       "0                        [Drama]\n",
       "1               [Drama, History]\n",
       "2    [Adventure, Drama, Fantasy]\n",
       "3             [Biography, Drama]\n",
       "4    [Biography, Drama, Romance]\n",
       "Name: genre, dtype: object"
      ]
     },
     "execution_count": 16,
     "metadata": {},
     "output_type": "execute_result"
    }
   ],
   "source": [
    "#Creating a list in the 'genre' feature\n",
    "data['genre'] = data['genre'].str.split(',')\n",
    "li=[]\n",
    "for i in data['genre']:\n",
    "    li.append(clean_list(i))\n",
    "data['genre']=li\n",
    "data['genre'].head()"
   ]
  },
  {
   "cell_type": "markdown",
   "id": "c677b081",
   "metadata": {},
   "source": [
    "### Cleaning the feature 'description'"
   ]
  },
  {
   "cell_type": "code",
   "execution_count": 17,
   "id": "7977c693",
   "metadata": {},
   "outputs": [
    {
     "data": {
      "text/plain": [
       "0    Two men of high rank are both wooing the beautiful and famous equestrian acrobat Stella. While Stella ignores the jeweler Hirsch, she accepts Count von Waldberg's offer to follow her home, ...\n",
       "1                                                                                        The fabled queen of Egypt's affair with Roman general Marc Antony is ultimately disastrous for both of them.\n",
       "2                      Loosely adapted from Dante's Divine Comedy and inspired by the illustrations of Gustav Doré the original silent film has been restored and has a new score by Tangerine Dream.\n",
       "3    An account of the life of Jesus Christ, based on the books of the New Testament: After Jesus' birth is foretold to his parents, he is born in Bethlehem, and is visited by shepherds and wise...\n",
       "4                                                                                The story of Madame DuBarry, the mistress of Louis XV of France, and her loves in the time of the French revolution.\n",
       "Name: description, dtype: object"
      ]
     },
     "execution_count": 17,
     "metadata": {},
     "output_type": "execute_result"
    }
   ],
   "source": [
    "data['description'].head()"
   ]
  },
  {
   "cell_type": "markdown",
   "id": "3d573e96",
   "metadata": {},
   "source": [
    "Stopwords are words that you do not want to use to describe the topic of your content.They have to be removed for better performance of the model."
   ]
  },
  {
   "cell_type": "code",
   "execution_count": 18,
   "id": "b1646edd",
   "metadata": {},
   "outputs": [
    {
     "data": {
      "text/plain": [
       "['during',\n",
       " 'here',\n",
       " \"she's\",\n",
       " 'now',\n",
       " \"don't\",\n",
       " 'about',\n",
       " 're',\n",
       " 'both',\n",
       " 'did',\n",
       " 'hadn',\n",
       " 'him',\n",
       " 'through',\n",
       " 'myself',\n",
       " 'than',\n",
       " 'what',\n",
       " 'theirs',\n",
       " 'until',\n",
       " 'has',\n",
       " 'if',\n",
       " 'does',\n",
       " 'a',\n",
       " \"didn't\",\n",
       " \"mightn't\",\n",
       " 'down',\n",
       " 'can',\n",
       " 'yours',\n",
       " 'or',\n",
       " 'them',\n",
       " 'our',\n",
       " 'am',\n",
       " 'just',\n",
       " 'after',\n",
       " 'nor',\n",
       " \"you'll\",\n",
       " 'so',\n",
       " 'weren',\n",
       " \"that'll\",\n",
       " 'an',\n",
       " 'these',\n",
       " 'we',\n",
       " 'who',\n",
       " 'for',\n",
       " 'themselves',\n",
       " \"haven't\",\n",
       " 'where',\n",
       " \"hadn't\",\n",
       " \"won't\",\n",
       " 'was',\n",
       " 'above',\n",
       " 'off',\n",
       " 'own',\n",
       " 'few',\n",
       " 'don',\n",
       " 'some',\n",
       " 'below',\n",
       " 'while',\n",
       " 'o',\n",
       " 'between',\n",
       " 'under',\n",
       " 'they',\n",
       " 'your',\n",
       " 'do',\n",
       " 'and',\n",
       " 'each',\n",
       " 'too',\n",
       " 'ain',\n",
       " 'its',\n",
       " 'their',\n",
       " \"it's\",\n",
       " 'hasn',\n",
       " 'no',\n",
       " 'ourselves',\n",
       " 'is',\n",
       " 'with',\n",
       " 'as',\n",
       " \"weren't\",\n",
       " 'only',\n",
       " \"you've\",\n",
       " 'up',\n",
       " 'y',\n",
       " 'before',\n",
       " 'once',\n",
       " 'such',\n",
       " 'didn',\n",
       " 'over',\n",
       " \"couldn't\",\n",
       " 'on',\n",
       " 'have',\n",
       " 's',\n",
       " 'more',\n",
       " 'yourself',\n",
       " 'should',\n",
       " 'll',\n",
       " 'ours',\n",
       " 'himself',\n",
       " \"wasn't\",\n",
       " 'then',\n",
       " 'that',\n",
       " 'other',\n",
       " \"you're\",\n",
       " 've',\n",
       " 'i',\n",
       " \"mustn't\",\n",
       " 'my',\n",
       " 'all',\n",
       " 't',\n",
       " 'hers',\n",
       " 'from',\n",
       " \"shan't\",\n",
       " 'me',\n",
       " 'at',\n",
       " 'his',\n",
       " 'herself',\n",
       " 'are',\n",
       " 'to',\n",
       " 'will',\n",
       " \"hasn't\",\n",
       " 'shouldn',\n",
       " 'those',\n",
       " 'her',\n",
       " 'in',\n",
       " 'this',\n",
       " 'aren',\n",
       " 'doesn',\n",
       " 'whom',\n",
       " 'd',\n",
       " 'into',\n",
       " 'wasn',\n",
       " 'how',\n",
       " 'which',\n",
       " \"wouldn't\",\n",
       " \"shouldn't\",\n",
       " 'm',\n",
       " 'it',\n",
       " 'be',\n",
       " 'having',\n",
       " 'doing',\n",
       " 'but',\n",
       " 'when',\n",
       " 'mightn',\n",
       " 'haven',\n",
       " 'again',\n",
       " \"isn't\",\n",
       " 'same',\n",
       " 'he',\n",
       " \"aren't\",\n",
       " 'any',\n",
       " 'of',\n",
       " 'ma',\n",
       " \"needn't\",\n",
       " 'mustn',\n",
       " 'because',\n",
       " 'shan',\n",
       " 'been',\n",
       " 'yourselves',\n",
       " 'couldn',\n",
       " 'the',\n",
       " \"you'd\",\n",
       " 'had',\n",
       " 'why',\n",
       " 'you',\n",
       " 'there',\n",
       " 'most',\n",
       " \"doesn't\",\n",
       " 'very',\n",
       " 'itself',\n",
       " 'out',\n",
       " 'by',\n",
       " 'not',\n",
       " 'she',\n",
       " 'being',\n",
       " 'isn',\n",
       " 'won',\n",
       " 'against',\n",
       " \"should've\",\n",
       " 'further',\n",
       " 'wouldn',\n",
       " 'were',\n",
       " 'needn']"
      ]
     },
     "execution_count": 18,
     "metadata": {},
     "output_type": "execute_result"
    }
   ],
   "source": [
    "from nltk.corpus import stopwords\n",
    "stop_words = set(stopwords.words('english'))\n",
    "list(stop_words)"
   ]
  },
  {
   "cell_type": "code",
   "execution_count": 19,
   "id": "c7e4c78a",
   "metadata": {},
   "outputs": [],
   "source": [
    "# function for removing stopwords\n",
    "def remove_stopwords(text):\n",
    "    no_stopword_text = [x for x in text.split() if not x in stop_words]\n",
    "    return ' '.join(no_stopword_text)"
   ]
  },
  {
   "cell_type": "markdown",
   "id": "7fbaec8f",
   "metadata": {},
   "source": [
    "Lemmatization can be done to reduce the word to its root synonym."
   ]
  },
  {
   "cell_type": "code",
   "execution_count": 20,
   "id": "3ff0f9fd",
   "metadata": {},
   "outputs": [],
   "source": [
    "from nltk.stem import WordNetLemmatizer \n",
    "\n",
    "#initialising the Wordnet Lemmatizer\n",
    "lemmatizer = WordNetLemmatizer()\n",
    "#to break text into terms wenever it encounters a whitespace\n",
    "w_tokenizer = nltk.tokenize.WhitespaceTokenizer()\n",
    "\n",
    "def lemmatize_text(text):\n",
    "    word_list=[lemmatizer.lemmatize(x) for x in w_tokenizer.tokenize(text)]\n",
    "    return ' '.join(word_list)  "
   ]
  },
  {
   "cell_type": "code",
   "execution_count": 21,
   "id": "8474ff1f",
   "metadata": {},
   "outputs": [],
   "source": [
    "data['description_cleaned'] = data['description'].apply(lambda x: clean_text(x))\n",
    "data['description_cleaned'] =data['description_cleaned'] .apply(lambda x: remove_stopwords(x))\n",
    "data['description_cleaned'] =data['description_cleaned'].apply(lemmatize_text)"
   ]
  },
  {
   "cell_type": "code",
   "execution_count": 22,
   "id": "c766ccaa",
   "metadata": {},
   "outputs": [
    {
     "data": {
      "text/html": [
       "<div>\n",
       "<style scoped>\n",
       "    .dataframe tbody tr th:only-of-type {\n",
       "        vertical-align: middle;\n",
       "    }\n",
       "\n",
       "    .dataframe tbody tr th {\n",
       "        vertical-align: top;\n",
       "    }\n",
       "\n",
       "    .dataframe thead th {\n",
       "        text-align: right;\n",
       "    }\n",
       "</style>\n",
       "<table border=\"1\" class=\"dataframe\">\n",
       "  <thead>\n",
       "    <tr style=\"text-align: right;\">\n",
       "      <th></th>\n",
       "      <th>description</th>\n",
       "      <th>description_cleaned</th>\n",
       "    </tr>\n",
       "  </thead>\n",
       "  <tbody>\n",
       "    <tr>\n",
       "      <th>0</th>\n",
       "      <td>Two men of high rank are both wooing the beautiful and famous equestrian acrobat Stella. While Stella ignores the jeweler Hirsch, she accepts Count von Waldberg's offer to follow her home, ...</td>\n",
       "      <td>two men high rank wooing beautiful famous equestrian acrobat stella stella ignores jeweler hirsch accepts count von waldberg offer follow home</td>\n",
       "    </tr>\n",
       "    <tr>\n",
       "      <th>1</th>\n",
       "      <td>The fabled queen of Egypt's affair with Roman general Marc Antony is ultimately disastrous for both of them.</td>\n",
       "      <td>fabled queen egypt affair roman general marc antony ultimately disastrous</td>\n",
       "    </tr>\n",
       "    <tr>\n",
       "      <th>2</th>\n",
       "      <td>Loosely adapted from Dante's Divine Comedy and inspired by the illustrations of Gustav Doré the original silent film has been restored and has a new score by Tangerine Dream.</td>\n",
       "      <td>loosely adapted dante divine comedy inspired illustration gustav dor original silent film restored new score tangerine dream</td>\n",
       "    </tr>\n",
       "    <tr>\n",
       "      <th>3</th>\n",
       "      <td>An account of the life of Jesus Christ, based on the books of the New Testament: After Jesus' birth is foretold to his parents, he is born in Bethlehem, and is visited by shepherds and wise...</td>\n",
       "      <td>account life jesus christ based book new testament jesus birth foretold parent born bethlehem visited shepherd wise</td>\n",
       "    </tr>\n",
       "    <tr>\n",
       "      <th>4</th>\n",
       "      <td>The story of Madame DuBarry, the mistress of Louis XV of France, and her loves in the time of the French revolution.</td>\n",
       "      <td>story madame dubarry mistress louis xv france love time french revolution</td>\n",
       "    </tr>\n",
       "  </tbody>\n",
       "</table>\n",
       "</div>"
      ],
      "text/plain": [
       "                                                                                                                                                                                        description  \\\n",
       "0  Two men of high rank are both wooing the beautiful and famous equestrian acrobat Stella. While Stella ignores the jeweler Hirsch, she accepts Count von Waldberg's offer to follow her home, ...   \n",
       "1                                                                                      The fabled queen of Egypt's affair with Roman general Marc Antony is ultimately disastrous for both of them.   \n",
       "2                    Loosely adapted from Dante's Divine Comedy and inspired by the illustrations of Gustav Doré the original silent film has been restored and has a new score by Tangerine Dream.   \n",
       "3  An account of the life of Jesus Christ, based on the books of the New Testament: After Jesus' birth is foretold to his parents, he is born in Bethlehem, and is visited by shepherds and wise...   \n",
       "4                                                                              The story of Madame DuBarry, the mistress of Louis XV of France, and her loves in the time of the French revolution.   \n",
       "\n",
       "                                                                                                                              description_cleaned  \n",
       "0  two men high rank wooing beautiful famous equestrian acrobat stella stella ignores jeweler hirsch accepts count von waldberg offer follow home  \n",
       "1                                                                       fabled queen egypt affair roman general marc antony ultimately disastrous  \n",
       "2                    loosely adapted dante divine comedy inspired illustration gustav dor original silent film restored new score tangerine dream  \n",
       "3                             account life jesus christ based book new testament jesus birth foretold parent born bethlehem visited shepherd wise  \n",
       "4                                                                       story madame dubarry mistress louis xv france love time french revolution  "
      ]
     },
     "execution_count": 22,
     "metadata": {},
     "output_type": "execute_result"
    }
   ],
   "source": [
    "data[['description','description_cleaned']].head()"
   ]
  },
  {
   "cell_type": "markdown",
   "id": "12d8d1d6",
   "metadata": {},
   "source": [
    "## Handling missing values"
   ]
  },
  {
   "cell_type": "code",
   "execution_count": 23,
   "id": "70ccf93f",
   "metadata": {},
   "outputs": [],
   "source": [
    "#filling the missing values with an empty string\n",
    "for x in ['country','language','director','writer','actors']:\n",
    "    data[x]=data[x].fillna('')"
   ]
  },
  {
   "cell_type": "code",
   "execution_count": 24,
   "id": "97b234ce",
   "metadata": {},
   "outputs": [],
   "source": [
    "#performing some basic text cleaning\n",
    "data['country_cleaned']=data['country'].apply(lambda x: clean_text(x))\n",
    "data['language_cleaned']=data['language'].apply(lambda x: clean_text(x))\n",
    "data['director_cleaned']=data['director'].apply(lambda x: clean_text1(x))\n",
    "data['writer_cleaned']=data['writer'].apply(lambda x: clean_text1(x))\n",
    "data['actors_cleaned']=data['actors'].apply(lambda x: clean_text1(x))\n",
    "data['genre_cleaned']=data['genre'].apply(lambda x: clean_list1(x))"
   ]
  },
  {
   "cell_type": "code",
   "execution_count": 25,
   "id": "1da4dc8e",
   "metadata": {},
   "outputs": [
    {
     "data": {
      "text/html": [
       "<div>\n",
       "<style scoped>\n",
       "    .dataframe tbody tr th:only-of-type {\n",
       "        vertical-align: middle;\n",
       "    }\n",
       "\n",
       "    .dataframe tbody tr th {\n",
       "        vertical-align: top;\n",
       "    }\n",
       "\n",
       "    .dataframe thead th {\n",
       "        text-align: right;\n",
       "    }\n",
       "</style>\n",
       "<table border=\"1\" class=\"dataframe\">\n",
       "  <thead>\n",
       "    <tr style=\"text-align: right;\">\n",
       "      <th></th>\n",
       "      <th>country</th>\n",
       "      <th>country_cleaned</th>\n",
       "      <th>language</th>\n",
       "      <th>language_cleaned</th>\n",
       "      <th>director</th>\n",
       "      <th>director_cleaned</th>\n",
       "      <th>writer</th>\n",
       "      <th>writer_cleaned</th>\n",
       "      <th>actors</th>\n",
       "      <th>actors_cleaned</th>\n",
       "      <th>genre</th>\n",
       "      <th>genre_cleaned</th>\n",
       "    </tr>\n",
       "  </thead>\n",
       "  <tbody>\n",
       "    <tr>\n",
       "      <th>0</th>\n",
       "      <td>Germany, Denmark</td>\n",
       "      <td>germany denmark</td>\n",
       "      <td></td>\n",
       "      <td></td>\n",
       "      <td>Urban Gad</td>\n",
       "      <td>urbangad</td>\n",
       "      <td>Urban Gad, Gebhard Schätzler-Perasini</td>\n",
       "      <td>urbangad gebhardschätzler-perasini</td>\n",
       "      <td>Asta Nielsen, Valdemar Psilander, Gunnar Helsengreen, Emil Albes, Hugo Flink, Mary Hagen</td>\n",
       "      <td>astanielsen valdemarpsilander gunnarhelsengreen emilalbes hugoflink maryhagen</td>\n",
       "      <td>[Drama]</td>\n",
       "      <td>drama</td>\n",
       "    </tr>\n",
       "    <tr>\n",
       "      <th>1</th>\n",
       "      <td>USA</td>\n",
       "      <td>usa</td>\n",
       "      <td>English</td>\n",
       "      <td>english</td>\n",
       "      <td>Charles L. Gaskill</td>\n",
       "      <td>charleslgaskill</td>\n",
       "      <td>Victorien Sardou</td>\n",
       "      <td>victoriensardou</td>\n",
       "      <td>Helen Gardner, Pearl Sindelar, Miss Fielding, Miss Robson, Helene Costello, Charles Sindelar, Mr. Howard, James R. Waite, Mr. Osborne, Harry Knowles, Mr. Paul, Mr. Brady, Mr. Corker</td>\n",
       "      <td>helengardner pearlsindelar missfielding missrobson helenecostello charlessindelar mrhoward jamesrwaite mrosborne harryknowles mrpaul mrbrady mrcorker</td>\n",
       "      <td>[Drama, History]</td>\n",
       "      <td>drama history</td>\n",
       "    </tr>\n",
       "  </tbody>\n",
       "</table>\n",
       "</div>"
      ],
      "text/plain": [
       "            country  country_cleaned language language_cleaned  \\\n",
       "0  Germany, Denmark  germany denmark                             \n",
       "1               USA              usa  English          english   \n",
       "\n",
       "             director director_cleaned                                 writer  \\\n",
       "0           Urban Gad         urbangad  Urban Gad, Gebhard Schätzler-Perasini   \n",
       "1  Charles L. Gaskill  charleslgaskill                       Victorien Sardou   \n",
       "\n",
       "                       writer_cleaned  \\\n",
       "0  urbangad gebhardschätzler-perasini   \n",
       "1                     victoriensardou   \n",
       "\n",
       "                                                                                                                                                                                  actors  \\\n",
       "0                                                                                               Asta Nielsen, Valdemar Psilander, Gunnar Helsengreen, Emil Albes, Hugo Flink, Mary Hagen   \n",
       "1  Helen Gardner, Pearl Sindelar, Miss Fielding, Miss Robson, Helene Costello, Charles Sindelar, Mr. Howard, James R. Waite, Mr. Osborne, Harry Knowles, Mr. Paul, Mr. Brady, Mr. Corker   \n",
       "\n",
       "                                                                                                                                          actors_cleaned  \\\n",
       "0                                                                          astanielsen valdemarpsilander gunnarhelsengreen emilalbes hugoflink maryhagen   \n",
       "1  helengardner pearlsindelar missfielding missrobson helenecostello charlessindelar mrhoward jamesrwaite mrosborne harryknowles mrpaul mrbrady mrcorker   \n",
       "\n",
       "              genre   genre_cleaned  \n",
       "0           [Drama]           drama  \n",
       "1  [Drama, History]   drama history  "
      ]
     },
     "execution_count": 25,
     "metadata": {},
     "output_type": "execute_result"
    }
   ],
   "source": [
    "data[['country','country_cleaned','language','language_cleaned','director','director_cleaned','writer','writer_cleaned','actors','actors_cleaned','genre','genre_cleaned']].head(2)"
   ]
  },
  {
   "cell_type": "markdown",
   "id": "dbcb48c5",
   "metadata": {},
   "source": [
    "## Feature Engineering"
   ]
  },
  {
   "cell_type": "markdown",
   "id": "3c18bd8a",
   "metadata": {},
   "source": [
    "A new feature which contains all the key attributes of the movie is added. "
   ]
  },
  {
   "cell_type": "code",
   "execution_count": 26,
   "id": "d43a9d67",
   "metadata": {},
   "outputs": [
    {
     "data": {
      "text/html": [
       "<div>\n",
       "<style scoped>\n",
       "    .dataframe tbody tr th:only-of-type {\n",
       "        vertical-align: middle;\n",
       "    }\n",
       "\n",
       "    .dataframe tbody tr th {\n",
       "        vertical-align: top;\n",
       "    }\n",
       "\n",
       "    .dataframe thead th {\n",
       "        text-align: right;\n",
       "    }\n",
       "</style>\n",
       "<table border=\"1\" class=\"dataframe\">\n",
       "  <thead>\n",
       "    <tr style=\"text-align: right;\">\n",
       "      <th></th>\n",
       "      <th>original_title</th>\n",
       "      <th>key_words</th>\n",
       "    </tr>\n",
       "  </thead>\n",
       "  <tbody>\n",
       "    <tr>\n",
       "      <th>0</th>\n",
       "      <td>Den sorte drøm</td>\n",
       "      <td>drama germany denmark  urbangad urbangad gebhardschätzler-perasini astanielsen valdemarpsilander gunnarhelsengreen emilalbes hugoflink maryhagen two men high rank wooing beautiful famous equestrian acrobat stella stella ignores jeweler hirsch accepts count von waldberg offer follow home</td>\n",
       "    </tr>\n",
       "    <tr>\n",
       "      <th>1</th>\n",
       "      <td>Cleopatra</td>\n",
       "      <td>drama history usa english charleslgaskill victoriensardou helengardner pearlsindelar missfielding missrobson helenecostello charlessindelar mrhoward jamesrwaite mrosborne harryknowles mrpaul mrbrady mrcorker fabled queen egypt affair roman general marc antony ultimately disastrous</td>\n",
       "    </tr>\n",
       "    <tr>\n",
       "      <th>2</th>\n",
       "      <td>L'Inferno</td>\n",
       "      <td>adventure drama fantasy italy italian francescobertolini adolfopadovan dantealighieri salvatorepapa arturopirovano giuseppedeliguoro pierdellevigne augustomilla attiliomotta emiliseberetta loosely adapted dante divine comedy inspired illustration gustav dor original silent film restored new score tangerine dream</td>\n",
       "    </tr>\n",
       "    <tr>\n",
       "      <th>3</th>\n",
       "      <td>From the Manger to the Cross; or, Jesus of Nazareth</td>\n",
       "      <td>biography drama usa english sidneyolcott genegauntier rhendersonbland percydyer genegauntier alicehollister samuelmorgan jamesdainsley robertgvignola georgekellog jpmcgowan account life jesus christ based book new testament jesus birth foretold parent born bethlehem visited shepherd wise</td>\n",
       "    </tr>\n",
       "    <tr>\n",
       "      <th>4</th>\n",
       "      <td>Madame DuBarry</td>\n",
       "      <td>biography drama romance germany german ernstlubitsch norbertfalk hannskräly polanegri emiljannings harryliedtke eduardvonwinterstein reinholdschünzel elseberna fredimmler gustavczimeg karlplaten bernhardgoetzke magnusstifter paulbiensfeldt willykaiser-heyl alexanderekert robertsortsch-pla story madame dubarry mistress louis xv france love time french revolution</td>\n",
       "    </tr>\n",
       "  </tbody>\n",
       "</table>\n",
       "</div>"
      ],
      "text/plain": [
       "                                        original_title  \\\n",
       "0                                       Den sorte drøm   \n",
       "1                                            Cleopatra   \n",
       "2                                            L'Inferno   \n",
       "3  From the Manger to the Cross; or, Jesus of Nazareth   \n",
       "4                                       Madame DuBarry   \n",
       "\n",
       "                                                                                                                                                                                                                                                                                                                                                                      key_words  \n",
       "0                                                                               drama germany denmark  urbangad urbangad gebhardschätzler-perasini astanielsen valdemarpsilander gunnarhelsengreen emilalbes hugoflink maryhagen two men high rank wooing beautiful famous equestrian acrobat stella stella ignores jeweler hirsch accepts count von waldberg offer follow home  \n",
       "1                                                                                     drama history usa english charleslgaskill victoriensardou helengardner pearlsindelar missfielding missrobson helenecostello charlessindelar mrhoward jamesrwaite mrosborne harryknowles mrpaul mrbrady mrcorker fabled queen egypt affair roman general marc antony ultimately disastrous  \n",
       "2                                                     adventure drama fantasy italy italian francescobertolini adolfopadovan dantealighieri salvatorepapa arturopirovano giuseppedeliguoro pierdellevigne augustomilla attiliomotta emiliseberetta loosely adapted dante divine comedy inspired illustration gustav dor original silent film restored new score tangerine dream  \n",
       "3                                                                              biography drama usa english sidneyolcott genegauntier rhendersonbland percydyer genegauntier alicehollister samuelmorgan jamesdainsley robertgvignola georgekellog jpmcgowan account life jesus christ based book new testament jesus birth foretold parent born bethlehem visited shepherd wise  \n",
       "4   biography drama romance germany german ernstlubitsch norbertfalk hannskräly polanegri emiljannings harryliedtke eduardvonwinterstein reinholdschünzel elseberna fredimmler gustavczimeg karlplaten bernhardgoetzke magnusstifter paulbiensfeldt willykaiser-heyl alexanderekert robertsortsch-pla story madame dubarry mistress louis xv france love time french revolution  "
      ]
     },
     "execution_count": 26,
     "metadata": {},
     "output_type": "execute_result"
    }
   ],
   "source": [
    "data['key_words']=data['genre_cleaned']+' '+data['country_cleaned']+' '+data['language_cleaned']+' '+data['director_cleaned']+' '+data['writer_cleaned']+' '+data['actors_cleaned']+' '+data['description_cleaned']\n",
    "data[['original_title','key_words']].head()"
   ]
  },
  {
   "cell_type": "markdown",
   "id": "e2be1e14",
   "metadata": {},
   "source": [
    "# MOVIE GENRE PREDICTION"
   ]
  },
  {
   "cell_type": "markdown",
   "id": "b4201f91",
   "metadata": {},
   "source": [
    "This model will predict the genre of the movie from the description. Since, a movie can belong to different genres, this is a case of Multi Label Classification,"
   ]
  },
  {
   "cell_type": "code",
   "execution_count": 27,
   "id": "2970672c",
   "metadata": {},
   "outputs": [
    {
     "data": {
      "text/plain": [
       "['Thriller',\n",
       " 'Adventure',\n",
       " 'Romance',\n",
       " 'Biography',\n",
       " 'Western',\n",
       " 'Mystery',\n",
       " 'Reality-TV',\n",
       " 'Film-Noir',\n",
       " 'Crime',\n",
       " 'Drama',\n",
       " 'Family',\n",
       " 'Music',\n",
       " 'Sci-Fi',\n",
       " 'Action',\n",
       " 'History',\n",
       " 'War',\n",
       " 'Adult',\n",
       " 'Sport',\n",
       " 'Comedy',\n",
       " 'Animation',\n",
       " 'Fantasy',\n",
       " 'News',\n",
       " 'Documentary',\n",
       " 'Musical',\n",
       " 'Horror']"
      ]
     },
     "execution_count": 27,
     "metadata": {},
     "output_type": "execute_result"
    }
   ],
   "source": [
    "genre_list=[]\n",
    "for x in data['genre']:\n",
    "    for y in x:\n",
    "        genre_list.append(y)\n",
    "genre_list=list(set(genre_list))\n",
    "genre_list     "
   ]
  },
  {
   "cell_type": "code",
   "execution_count": 28,
   "id": "0a72d423",
   "metadata": {},
   "outputs": [
    {
     "data": {
      "text/plain": [
       "25"
      ]
     },
     "execution_count": 28,
     "metadata": {},
     "output_type": "execute_result"
    }
   ],
   "source": [
    "len(genre_list)"
   ]
  },
  {
   "cell_type": "markdown",
   "id": "053d8469",
   "metadata": {},
   "source": [
    "There are 25 unique genres. The target variable will be one hot encoded using MultiLabelBinarizer."
   ]
  },
  {
   "cell_type": "code",
   "execution_count": 29,
   "id": "36490c10",
   "metadata": {},
   "outputs": [],
   "source": [
    "from sklearn.preprocessing import MultiLabelBinarizer\n",
    "#initialising\n",
    "multilabel_binarizer = MultiLabelBinarizer()\n",
    "multilabel_binarizer.fit(data['genre'])\n",
    "\n",
    "#transforming target variable\n",
    "y = multilabel_binarizer.transform(data['genre'])"
   ]
  },
  {
   "cell_type": "code",
   "execution_count": 30,
   "id": "decb7f92",
   "metadata": {},
   "outputs": [],
   "source": [
    "from sklearn.model_selection import train_test_split\n",
    "x_train,x_test,y_train,y_test=train_test_split(data['description_cleaned'],y,random_state=2,test_size=0.2)"
   ]
  },
  {
   "cell_type": "markdown",
   "id": "e4cd6063",
   "metadata": {},
   "source": [
    "The TF-IDF technique can be used to quantify and vectorize text."
   ]
  },
  {
   "cell_type": "code",
   "execution_count": 31,
   "id": "e3c41d24",
   "metadata": {},
   "outputs": [],
   "source": [
    "from sklearn.feature_extraction.text import TfidfVectorizer\n",
    "tf_idf_vectorizer = TfidfVectorizer()"
   ]
  },
  {
   "cell_type": "code",
   "execution_count": 32,
   "id": "59ed9fa5",
   "metadata": {},
   "outputs": [],
   "source": [
    "x_train_tf_idf = tf_idf_vectorizer.fit_transform(x_train)\n",
    "x_test_tf_idf = tf_idf_vectorizer.transform(x_test)"
   ]
  },
  {
   "cell_type": "code",
   "execution_count": 33,
   "id": "b3b659a1",
   "metadata": {},
   "outputs": [],
   "source": [
    "from sklearn.linear_model import LogisticRegression\n",
    "from sklearn.multiclass import OneVsRestClassifier\n",
    "#initialising\n",
    "lr = LogisticRegression()\n",
    "clf=OneVsRestClassifier(lr)"
   ]
  },
  {
   "cell_type": "code",
   "execution_count": 34,
   "id": "8cd0f99b",
   "metadata": {},
   "outputs": [],
   "source": [
    "#fitting model on training data\n",
    "clf.fit(x_train_tf_idf, y_train)\n",
    "#predicting for validation set\n",
    "y_pred = clf.predict(x_test_tf_idf)"
   ]
  },
  {
   "cell_type": "code",
   "execution_count": 35,
   "id": "f434bc8b",
   "metadata": {},
   "outputs": [
    {
     "name": "stdout",
     "output_type": "stream",
     "text": [
      "\n",
      "Classification report\n",
      "               precision    recall  f1-score   support\n",
      "\n",
      "           0       0.71      0.29      0.41      2302\n",
      "           1       0.00      0.00      0.00         0\n",
      "           2       0.75      0.17      0.27      1320\n",
      "           3       0.71      0.03      0.05       382\n",
      "           4       0.50      0.02      0.03       376\n",
      "           5       0.69      0.48      0.57      4937\n",
      "           6       0.66      0.26      0.37      1939\n",
      "           7       0.00      0.00      0.00         0\n",
      "           8       0.72      0.77      0.74      8281\n",
      "           9       0.63      0.05      0.09       711\n",
      "          10       0.62      0.04      0.08       697\n",
      "          11       0.00      0.00      0.00       117\n",
      "          12       0.39      0.02      0.03       401\n",
      "          13       0.81      0.39      0.52      1784\n",
      "          14       0.48      0.04      0.07       281\n",
      "          15       0.57      0.02      0.05       336\n",
      "          16       0.47      0.07      0.12       934\n",
      "          17       0.00      0.00      0.00         0\n",
      "          18       0.00      0.00      0.00         0\n",
      "          19       0.60      0.18      0.27      2405\n",
      "          20       0.71      0.21      0.32       646\n",
      "          21       0.58      0.10      0.17       186\n",
      "          22       0.52      0.11      0.19      2030\n",
      "          23       0.63      0.21      0.31       401\n",
      "          24       0.81      0.22      0.34       283\n",
      "\n",
      "   micro avg       0.70      0.39      0.50     30749\n",
      "   macro avg       0.50      0.15      0.20     30749\n",
      "weighted avg       0.67      0.39      0.45     30749\n",
      " samples avg       0.62      0.45      0.49     30749\n",
      "\n"
     ]
    }
   ],
   "source": [
    "#evaluating the performance of the model\n",
    "from sklearn.metrics import classification_report\n",
    "print('\\nClassification report\\n',classification_report(y_test,y_pred))"
   ]
  },
  {
   "cell_type": "markdown",
   "id": "fab9f43b",
   "metadata": {},
   "source": [
    "# Movie Genre Prediction of a New Plot Description"
   ]
  },
  {
   "cell_type": "code",
   "execution_count": 36,
   "id": "3c0e85d4",
   "metadata": {},
   "outputs": [],
   "source": [
    "#function for cleaning raw description of movies and predicting the genre\n",
    "def clean_description(desc):\n",
    "    desc=clean_text(desc)\n",
    "    desc=remove_stopwords(desc)\n",
    "    desc=lemmatize_text(desc)\n",
    "    desc_vector=tf_idf_vectorizer.transform([desc])\n",
    "    desc_pred= clf.predict(desc_vector)\n",
    "    \n",
    "    #to convert predicted arrays to movie genres\n",
    "    return multilabel_binarizer.inverse_transform(desc_pred)"
   ]
  },
  {
   "cell_type": "code",
   "execution_count": 37,
   "id": "e276b0f6",
   "metadata": {},
   "outputs": [
    {
     "data": {
      "text/plain": [
       "[('Comedy', 'Drama')]"
      ]
     },
     "execution_count": 37,
     "metadata": {},
     "output_type": "execute_result"
    }
   ],
   "source": [
    "clean_description('A satire on contemporary Kerala politics where brothers turn local leaders of rival parties, leading to distress for their aged and once-proud parents.')\n",
    "                  \n",
    "                  "
   ]
  },
  {
   "cell_type": "markdown",
   "id": "c64e0560",
   "metadata": {},
   "source": [
    "# Movie recommendation System"
   ]
  },
  {
   "cell_type": "markdown",
   "id": "f3fa7af0",
   "metadata": {},
   "source": [
    "A subset of the dataset is taken for the recommendation system. Only movies with votes above 20000 are considered."
   ]
  },
  {
   "cell_type": "code",
   "execution_count": 38,
   "id": "a5c0f0d2",
   "metadata": {},
   "outputs": [
    {
     "data": {
      "text/plain": [
       "(10628, 24)"
      ]
     },
     "execution_count": 38,
     "metadata": {},
     "output_type": "execute_result"
    }
   ],
   "source": [
    "data1=data[data['votes']>5000]\n",
    "data1.shape"
   ]
  },
  {
   "cell_type": "code",
   "execution_count": 39,
   "id": "a440241b",
   "metadata": {},
   "outputs": [
    {
     "data": {
      "text/plain": [
       "(10628, 103797)"
      ]
     },
     "execution_count": 39,
     "metadata": {},
     "output_type": "execute_result"
    }
   ],
   "source": [
    "#initialising\n",
    "tf = TfidfVectorizer()\n",
    "tfidf_matrix = tf.fit_transform(data1['key_words'])\n",
    "tfidf_matrix.shape"
   ]
  },
  {
   "cell_type": "markdown",
   "id": "0c8b6a45",
   "metadata": {},
   "source": [
    "A pairwise cosine similarity matrix for all the movies in our dataset can be calculated."
   ]
  },
  {
   "cell_type": "code",
   "execution_count": 40,
   "id": "2ec0df50",
   "metadata": {},
   "outputs": [],
   "source": [
    "from sklearn.metrics.pairwise import linear_kernel, cosine_similarity\n",
    "#using a numerical quantity to define similarity between movies\n",
    "cosine_sim = linear_kernel(tfidf_matrix, tfidf_matrix)"
   ]
  },
  {
   "cell_type": "code",
   "execution_count": 41,
   "id": "e0367689",
   "metadata": {},
   "outputs": [],
   "source": [
    "data1 = data1.reset_index()\n",
    "titles = data1['original_title']\n",
    "indices = pd.Series(data1.index, index=data1['original_title'])"
   ]
  },
  {
   "cell_type": "code",
   "execution_count": 42,
   "id": "890a6be6",
   "metadata": {},
   "outputs": [],
   "source": [
    "#function that returns the 5 most similar movies based on the cosine similarity score.\n",
    "def get_recommendations(title):\n",
    "    idx = indices[title]\n",
    "    sim_scores = list(enumerate(cosine_sim[idx]))\n",
    "    sim_scores = sorted(sim_scores, key=lambda x: x[1], reverse=True)\n",
    "    sim_scores = sim_scores[1:6]\n",
    "    movie_indices = [i[0] for i in sim_scores]\n",
    "    return titles.iloc[movie_indices]"
   ]
  },
  {
   "cell_type": "markdown",
   "id": "29bbd57f",
   "metadata": {},
   "source": [
    "## Evaluating the model"
   ]
  },
  {
   "cell_type": "code",
   "execution_count": 43,
   "id": "b5caf4a4",
   "metadata": {},
   "outputs": [
    {
     "data": {
      "text/plain": [
       "3532    The Lost World: Jurassic Park\n",
       "5154                   Jurassic World\n",
       "1149                        Westworld\n",
       "1422    The First Great Train Robbery\n",
       "3953                Jurassic Park III\n",
       "Name: original_title, dtype: object"
      ]
     },
     "execution_count": 43,
     "metadata": {},
     "output_type": "execute_result"
    }
   ],
   "source": [
    "get_recommendations('Jurassic Park')"
   ]
  },
  {
   "cell_type": "code",
   "execution_count": 44,
   "id": "73bababb",
   "metadata": {},
   "outputs": [
    {
     "data": {
      "text/html": [
       "<div>\n",
       "<style scoped>\n",
       "    .dataframe tbody tr th:only-of-type {\n",
       "        vertical-align: middle;\n",
       "    }\n",
       "\n",
       "    .dataframe tbody tr th {\n",
       "        vertical-align: top;\n",
       "    }\n",
       "\n",
       "    .dataframe thead th {\n",
       "        text-align: right;\n",
       "    }\n",
       "</style>\n",
       "<table border=\"1\" class=\"dataframe\">\n",
       "  <thead>\n",
       "    <tr style=\"text-align: right;\">\n",
       "      <th></th>\n",
       "      <th>original_title</th>\n",
       "      <th>genre</th>\n",
       "      <th>country</th>\n",
       "      <th>language</th>\n",
       "      <th>director</th>\n",
       "      <th>writer</th>\n",
       "      <th>actors</th>\n",
       "      <th>description</th>\n",
       "    </tr>\n",
       "  </thead>\n",
       "  <tbody>\n",
       "    <tr>\n",
       "      <th>2830</th>\n",
       "      <td>Jurassic Park</td>\n",
       "      <td>[Action, Adventure, Sci-Fi]</td>\n",
       "      <td>USA</td>\n",
       "      <td>English, Spanish</td>\n",
       "      <td>Steven Spielberg</td>\n",
       "      <td>Michael Crichton, Michael Crichton</td>\n",
       "      <td>Sam Neill, Laura Dern, Jeff Goldblum, Richard Attenborough, Bob Peck, Martin Ferrero, BD Wong, Joseph Mazzello, Ariana Richards, Samuel L. Jackson, Wayne Knight, Gerald R. Molen, Miguel Sandoval, Cameron Thor, Christopher John Fields</td>\n",
       "      <td>A pragmatic paleontologist visiting an almost complete theme park is tasked with protecting a couple of kids after a power failure causes the park's cloned dinosaurs to run loose.</td>\n",
       "    </tr>\n",
       "  </tbody>\n",
       "</table>\n",
       "</div>"
      ],
      "text/plain": [
       "     original_title                        genre country          language  \\\n",
       "2830  Jurassic Park  [Action, Adventure, Sci-Fi]     USA  English, Spanish   \n",
       "\n",
       "              director                              writer  \\\n",
       "2830  Steven Spielberg  Michael Crichton, Michael Crichton   \n",
       "\n",
       "                                                                                                                                                                                                                                         actors  \\\n",
       "2830  Sam Neill, Laura Dern, Jeff Goldblum, Richard Attenborough, Bob Peck, Martin Ferrero, BD Wong, Joseph Mazzello, Ariana Richards, Samuel L. Jackson, Wayne Knight, Gerald R. Molen, Miguel Sandoval, Cameron Thor, Christopher John Fields   \n",
       "\n",
       "                                                                                                                                                                              description  \n",
       "2830  A pragmatic paleontologist visiting an almost complete theme park is tasked with protecting a couple of kids after a power failure causes the park's cloned dinosaurs to run loose.  "
      ]
     },
     "execution_count": 44,
     "metadata": {},
     "output_type": "execute_result"
    }
   ],
   "source": [
    "data1[['original_title','genre','country','language','director','writer','actors','description']][data1['original_title'] =='Jurassic Park']"
   ]
  },
  {
   "cell_type": "code",
   "execution_count": 45,
   "id": "13af6cc6",
   "metadata": {},
   "outputs": [
    {
     "data": {
      "text/html": [
       "<div>\n",
       "<style scoped>\n",
       "    .dataframe tbody tr th:only-of-type {\n",
       "        vertical-align: middle;\n",
       "    }\n",
       "\n",
       "    .dataframe tbody tr th {\n",
       "        vertical-align: top;\n",
       "    }\n",
       "\n",
       "    .dataframe thead th {\n",
       "        text-align: right;\n",
       "    }\n",
       "</style>\n",
       "<table border=\"1\" class=\"dataframe\">\n",
       "  <thead>\n",
       "    <tr style=\"text-align: right;\">\n",
       "      <th></th>\n",
       "      <th>original_title</th>\n",
       "      <th>genre</th>\n",
       "      <th>country</th>\n",
       "      <th>language</th>\n",
       "      <th>director</th>\n",
       "      <th>writer</th>\n",
       "      <th>actors</th>\n",
       "      <th>description</th>\n",
       "    </tr>\n",
       "  </thead>\n",
       "  <tbody>\n",
       "    <tr>\n",
       "      <th>14240</th>\n",
       "      <td>Westworld</td>\n",
       "      <td>[Action, Sci-Fi, Thriller]</td>\n",
       "      <td>USA</td>\n",
       "      <td>English</td>\n",
       "      <td>Michael Crichton</td>\n",
       "      <td>Michael Crichton</td>\n",
       "      <td>Yul Brynner, Richard Benjamin, James Brolin, Norman Bartold, Alan Oppenheimer, Victoria Shaw, Dick Van Patten, Linda Gaye Scott, Steve Franken, Michael T. Mikler, Terry Wilson, Majel Barrett, Anne Randall, Julie Marcus, Sharyn Wynters</td>\n",
       "      <td>A robot malfunction creates havoc and terror for unsuspecting vacationers at a futuristic, adult-themed amusement park.</td>\n",
       "    </tr>\n",
       "    <tr>\n",
       "      <th>16519</th>\n",
       "      <td>The First Great Train Robbery</td>\n",
       "      <td>[Adventure, Crime, Drama]</td>\n",
       "      <td>UK</td>\n",
       "      <td>English</td>\n",
       "      <td>Michael Crichton</td>\n",
       "      <td>Michael Crichton, Michael Crichton</td>\n",
       "      <td>Sean Connery, Donald Sutherland, Lesley-Anne Down, Alan Webb, Malcolm Terris, Robert Lang, Michael Elphick, Wayne Sleep, Pamela Salem, Gabrielle Lloyd, George Downing, James Cossins, John Bett, Peter Benson, Janine Duvitski</td>\n",
       "      <td>England, 1850s. A master criminal aims to rob a train of a large sum of gold. Security is incredibly tight and the task seems an impossible one. However, he has a plan and just the right people to carry it out.</td>\n",
       "    </tr>\n",
       "    <tr>\n",
       "      <th>27082</th>\n",
       "      <td>The Lost World: Jurassic Park</td>\n",
       "      <td>[Action, Adventure, Sci-Fi]</td>\n",
       "      <td>USA</td>\n",
       "      <td>English, Spanish</td>\n",
       "      <td>Steven Spielberg</td>\n",
       "      <td>Michael Crichton, David Koepp</td>\n",
       "      <td>Jeff Goldblum, Julianne Moore, Pete Postlethwaite, Arliss Howard, Richard Attenborough, Vince Vaughn, Vanessa Chester, Peter Stormare, Harvey Jason, Richard Schiff, Thomas F. Duffy, Joseph Mazzello, Ariana Richards, Thomas Rosales Jr., Camilla Belle</td>\n",
       "      <td>A research team is sent to the Jurassic Park Site B island to study the dinosaurs there, while an InGen team approaches with another agenda.</td>\n",
       "    </tr>\n",
       "    <tr>\n",
       "      <th>29671</th>\n",
       "      <td>Jurassic Park III</td>\n",
       "      <td>[Action, Adventure, Sci-Fi]</td>\n",
       "      <td>USA</td>\n",
       "      <td>English, Spanish</td>\n",
       "      <td>Joe Johnston</td>\n",
       "      <td>Michael Crichton, Peter Buchman</td>\n",
       "      <td>Sam Neill, William H. Macy, Téa Leoni, Alessandro Nivola, Trevor Morgan, Michael Jeter, John Diehl, Bruce A. Young, Laura Dern, Taylor Nichols, Mark Harelik, Julio Oscar Mechoso, Blake Michael Bryan, Sarah Danielle Madison, Linda Park</td>\n",
       "      <td>A decidedly odd couple with ulterior motives convince Dr. Grant to go to Isla Sorna for a holiday, but their unexpected landing startles the island's new inhabitants.</td>\n",
       "    </tr>\n",
       "    <tr>\n",
       "      <th>38103</th>\n",
       "      <td>Jurassic World</td>\n",
       "      <td>[Action, Adventure, Sci-Fi]</td>\n",
       "      <td>USA</td>\n",
       "      <td>English</td>\n",
       "      <td>Colin Trevorrow</td>\n",
       "      <td>Rick Jaffa, Amanda Silver</td>\n",
       "      <td>Chris Pratt, Bryce Dallas Howard, Irrfan Khan, Vincent D'Onofrio, Ty Simpkins, Nick Robinson, Jake Johnson, Omar Sy, BD Wong, Judy Greer, Lauren Lapkus, Brian Tee, Katie McGrath, Andy Buckley, Eric Edelstein</td>\n",
       "      <td>A new theme park, built on the original site of Jurassic Park, creates a genetically modified hybrid dinosaur, the Indominus Rex, which escapes containment and goes on a killing spree.</td>\n",
       "    </tr>\n",
       "  </tbody>\n",
       "</table>\n",
       "</div>"
      ],
      "text/plain": [
       "                      original_title                        genre country  \\\n",
       "14240                      Westworld   [Action, Sci-Fi, Thriller]     USA   \n",
       "16519  The First Great Train Robbery    [Adventure, Crime, Drama]      UK   \n",
       "27082  The Lost World: Jurassic Park  [Action, Adventure, Sci-Fi]     USA   \n",
       "29671              Jurassic Park III  [Action, Adventure, Sci-Fi]     USA   \n",
       "38103                 Jurassic World  [Action, Adventure, Sci-Fi]     USA   \n",
       "\n",
       "               language          director                              writer  \\\n",
       "14240           English  Michael Crichton                    Michael Crichton   \n",
       "16519           English  Michael Crichton  Michael Crichton, Michael Crichton   \n",
       "27082  English, Spanish  Steven Spielberg       Michael Crichton, David Koepp   \n",
       "29671  English, Spanish      Joe Johnston     Michael Crichton, Peter Buchman   \n",
       "38103           English   Colin Trevorrow           Rick Jaffa, Amanda Silver   \n",
       "\n",
       "                                                                                                                                                                                                                                                          actors  \\\n",
       "14240                 Yul Brynner, Richard Benjamin, James Brolin, Norman Bartold, Alan Oppenheimer, Victoria Shaw, Dick Van Patten, Linda Gaye Scott, Steve Franken, Michael T. Mikler, Terry Wilson, Majel Barrett, Anne Randall, Julie Marcus, Sharyn Wynters   \n",
       "16519                            Sean Connery, Donald Sutherland, Lesley-Anne Down, Alan Webb, Malcolm Terris, Robert Lang, Michael Elphick, Wayne Sleep, Pamela Salem, Gabrielle Lloyd, George Downing, James Cossins, John Bett, Peter Benson, Janine Duvitski   \n",
       "27082  Jeff Goldblum, Julianne Moore, Pete Postlethwaite, Arliss Howard, Richard Attenborough, Vince Vaughn, Vanessa Chester, Peter Stormare, Harvey Jason, Richard Schiff, Thomas F. Duffy, Joseph Mazzello, Ariana Richards, Thomas Rosales Jr., Camilla Belle   \n",
       "29671                 Sam Neill, William H. Macy, Téa Leoni, Alessandro Nivola, Trevor Morgan, Michael Jeter, John Diehl, Bruce A. Young, Laura Dern, Taylor Nichols, Mark Harelik, Julio Oscar Mechoso, Blake Michael Bryan, Sarah Danielle Madison, Linda Park   \n",
       "38103                                            Chris Pratt, Bryce Dallas Howard, Irrfan Khan, Vincent D'Onofrio, Ty Simpkins, Nick Robinson, Jake Johnson, Omar Sy, BD Wong, Judy Greer, Lauren Lapkus, Brian Tee, Katie McGrath, Andy Buckley, Eric Edelstein   \n",
       "\n",
       "                                                                                                                                                                                                              description  \n",
       "14240                                                                                             A robot malfunction creates havoc and terror for unsuspecting vacationers at a futuristic, adult-themed amusement park.  \n",
       "16519  England, 1850s. A master criminal aims to rob a train of a large sum of gold. Security is incredibly tight and the task seems an impossible one. However, he has a plan and just the right people to carry it out.  \n",
       "27082                                                                        A research team is sent to the Jurassic Park Site B island to study the dinosaurs there, while an InGen team approaches with another agenda.  \n",
       "29671                                              A decidedly odd couple with ulterior motives convince Dr. Grant to go to Isla Sorna for a holiday, but their unexpected landing startles the island's new inhabitants.  \n",
       "38103                            A new theme park, built on the original site of Jurassic Park, creates a genetically modified hybrid dinosaur, the Indominus Rex, which escapes containment and goes on a killing spree.  "
      ]
     },
     "execution_count": 45,
     "metadata": {},
     "output_type": "execute_result"
    }
   ],
   "source": [
    "data[['original_title','genre','country','language','director','writer','actors','description']][data['original_title'].isin(list(get_recommendations('Jurassic Park')))]"
   ]
  },
  {
   "cell_type": "markdown",
   "id": "fc08a8d2",
   "metadata": {},
   "source": [
    "There are similarities in the genre, language, country, writer and plot of the recommended movies."
   ]
  },
  {
   "cell_type": "markdown",
   "id": "f91ed4d6",
   "metadata": {},
   "source": [
    "## Malayalam movie recommendation system"
   ]
  },
  {
   "cell_type": "code",
   "execution_count": 46,
   "id": "c9d8d8d1",
   "metadata": {},
   "outputs": [
    {
     "data": {
      "text/plain": [
       "(735, 24)"
      ]
     },
     "execution_count": 46,
     "metadata": {},
     "output_type": "execute_result"
    }
   ],
   "source": [
    "data2=data[data['language']=='Malayalam']\n",
    "data2.shape"
   ]
  },
  {
   "cell_type": "code",
   "execution_count": 47,
   "id": "269481d9",
   "metadata": {},
   "outputs": [
    {
     "data": {
      "text/plain": [
       "(735, 6390)"
      ]
     },
     "execution_count": 47,
     "metadata": {},
     "output_type": "execute_result"
    }
   ],
   "source": [
    "#initialising\n",
    "tf = TfidfVectorizer()\n",
    "tfidf_matrix1 = tf.fit_transform(data2['key_words'])\n",
    "tfidf_matrix1.shape"
   ]
  },
  {
   "cell_type": "code",
   "execution_count": 48,
   "id": "795040fd",
   "metadata": {},
   "outputs": [],
   "source": [
    "cosine_sim1 = linear_kernel(tfidf_matrix1, tfidf_matrix1)\n",
    "data2 = data2.reset_index()\n",
    "titles1 = data2['original_title']\n",
    "indices1 = pd.Series(data2.index, index=data2['original_title'])"
   ]
  },
  {
   "cell_type": "code",
   "execution_count": 49,
   "id": "07344dbc",
   "metadata": {},
   "outputs": [],
   "source": [
    "#function that returns the 5 most similar movies based on the cosine similarity score.\n",
    "def get_recommendations1(title):\n",
    "    idx = indices1[title]\n",
    "    sim_scores = list(enumerate(cosine_sim1[idx]))\n",
    "    sim_scores = sorted(sim_scores, key=lambda x: x[1], reverse=True)\n",
    "    sim_scores = sim_scores[1:6]\n",
    "    movie_indices = [i[0] for i in sim_scores]\n",
    "    return titles1.iloc[movie_indices]"
   ]
  },
  {
   "cell_type": "code",
   "execution_count": 50,
   "id": "037939ba",
   "metadata": {},
   "outputs": [
    {
     "data": {
      "text/plain": [
       "158                   Pattanapravesam\n",
       "169                         Varavelpu\n",
       "194                         Sandesham\n",
       "59                  Golanthara Vartha\n",
       "162    Sanmanassullavarkku Samadhanam\n",
       "Name: original_title, dtype: object"
      ]
     },
     "execution_count": 50,
     "metadata": {},
     "output_type": "execute_result"
    }
   ],
   "source": [
    "get_recommendations1('Nadodikkattu')"
   ]
  },
  {
   "cell_type": "code",
   "execution_count": null,
   "id": "b280c39d",
   "metadata": {},
   "outputs": [],
   "source": []
  }
 ],
 "metadata": {
  "kernelspec": {
   "display_name": "Python 3",
   "language": "python",
   "name": "python3"
  },
  "language_info": {
   "codemirror_mode": {
    "name": "ipython",
    "version": 3
   },
   "file_extension": ".py",
   "mimetype": "text/x-python",
   "name": "python",
   "nbconvert_exporter": "python",
   "pygments_lexer": "ipython3",
   "version": "3.8.8"
  }
 },
 "nbformat": 4,
 "nbformat_minor": 5
}
